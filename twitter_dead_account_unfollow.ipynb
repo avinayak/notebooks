{
 "cells": [
  {
   "cell_type": "code",
   "execution_count": null,
   "metadata": {},
   "outputs": [],
   "source": [
    "import tweepy\n",
    "from tqdm.notebook import tqdm\n",
    "from datetime import datetime\n",
    "import webbrowser"
   ]
  },
  {
   "cell_type": "markdown",
   "metadata": {},
   "source": [
    "# Dead following unfollower\n",
    "Automatically opens browser and lets you unfollow dead twiiter accounts.\n",
    "Get new twitter credentials from https://developer.twitter.com/en first\n",
    "Set your user id, and expiry date"
   ]
  },
  {
   "cell_type": "code",
   "execution_count": null,
   "metadata": {},
   "outputs": [],
   "source": [
    "id = \"yakinavault\"\n",
    "follower_expiry_date = \"2021-06-01 +0000\"\n",
    "\n",
    "# twitter api creds\n",
    "consumer_key = \"XXXXXXXXXXXXXXXXXXXXXXXXXXXXXXXX\"\n",
    "consumer_secret = \"XXXXXXXXXXXXXXXXXXXXXXXXXXXXXXXX\"\n",
    "access_token = \"XXXXXXXXXXXXXXXXXXXXXXXXXXXXXXXX\"\n",
    "access_token_secret = \"XXXXXXXXXXXXXXXXXXXXXXXXXXXXXXXX\""
   ]
  },
  {
   "cell_type": "code",
   "execution_count": null,
   "metadata": {},
   "outputs": [],
   "source": [
    "\n",
    "\n",
    "auth = tweepy.OAuthHandler(\n",
    "        consumer_key, consumer_secret)\n",
    "auth.set_access_token(access_token,\n",
    "                          access_token_secret)\n",
    "api = tweepy.API(auth, wait_on_rate_limit=True, wait_on_rate_limit_notify=True)\n",
    "users = []\n",
    "users_lta = {}\n"
   ]
  },
  {
   "cell_type": "code",
   "execution_count": null,
   "metadata": {},
   "outputs": [],
   "source": [
    "for user in tqdm(tweepy.Cursor(api.friends, screen_name=id, count=200).items()):\n",
    "    if user.screen_name not in users:\n",
    "        users.append(user.screen_name)\n",
    "print(\"Total following:\", len(users))"
   ]
  },
  {
   "cell_type": "code",
   "execution_count": null,
   "metadata": {},
   "outputs": [],
   "source": [
    "def last_tweet_at(user_id):\n",
    "    tweet = api.user_timeline(id = user_id, count = 1)\n",
    "    if len(tweet) > 0:\n",
    "        return tweet[0]._json[\"created_at\"]\n",
    "    else:\n",
    "        return None"
   ]
  },
  {
   "cell_type": "code",
   "execution_count": null,
   "metadata": {},
   "outputs": [],
   "source": [
    "for user in tqdm(users):\n",
    "    if user not in users_lta:\n",
    "        try:\n",
    "            lta = last_tweet_at(user)\n",
    "        except tweepy.TweepError:\n",
    "            print(\"Error: \", user)\n",
    "\n",
    "        if lta is not None:\n",
    "            users_lta[user] = lta\n",
    "\n",
    "print(\"Total users with last tweets:\", len(users_lta))"
   ]
  },
  {
   "cell_type": "code",
   "execution_count": null,
   "metadata": {},
   "outputs": [],
   "source": [
    "def parse_twitter_time(time_str):\n",
    "    return datetime.strptime(time_str, '%a %b %d %H:%M:%S %z %Y')"
   ]
  },
  {
   "cell_type": "code",
   "execution_count": null,
   "metadata": {},
   "outputs": [],
   "source": [
    "sorted_lta = sorted(users_lta.items(), key=lambda x: parse_twitter_time(x[1]) )"
   ]
  },
  {
   "cell_type": "code",
   "execution_count": null,
   "metadata": {},
   "outputs": [],
   "source": [
    "to_be_unfollowed = list(filter(lambda x: parse_twitter_time(x[1]) < datetime.strptime(follower_expiry_date, \"%Y-%m-%d %z\"), sorted_lta))\n",
    "print(\"Total users to be unfollowed:\", len(to_be_unfollowed))"
   ]
  },
  {
   "cell_type": "code",
   "execution_count": null,
   "metadata": {},
   "outputs": [],
   "source": [
    "for user, _ in to_be_unfollowed:\n",
    "    webbrowser.open_new_tab(\"https://twitter.com/{}\".format(user))"
   ]
  }
 ],
 "metadata": {
  "interpreter": {
   "hash": "e7370f93d1d0cde622a1f8e1c04877d8463912d04d973331ad4851f04de6915a"
  },
  "kernelspec": {
   "display_name": "Python 3.8.10 64-bit",
   "language": "python",
   "name": "python3"
  },
  "language_info": {
   "codemirror_mode": {
    "name": "ipython",
    "version": 3
   },
   "file_extension": ".py",
   "mimetype": "text/x-python",
   "name": "python",
   "nbconvert_exporter": "python",
   "pygments_lexer": "ipython3",
   "version": "3.8.10"
  },
  "orig_nbformat": 4
 },
 "nbformat": 4,
 "nbformat_minor": 2
}
